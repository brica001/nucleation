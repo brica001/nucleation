{
 "cells": [
  {
   "cell_type": "code",
   "execution_count": 2,
   "metadata": {},
   "outputs": [],
   "source": [
    "import matplotlib.pyplot as plt \n",
    "import numpy as np\n",
    "from scipy.integrate import odeint"
   ]
  },
  {
   "cell_type": "code",
   "execution_count": 16,
   "metadata": {},
   "outputs": [
    {
     "data": {
      "text/plain": [
       "[<matplotlib.lines.Line2D at 0x7fd5a139f700>]"
      ]
     },
     "execution_count": 16,
     "metadata": {},
     "output_type": "execute_result"
    },
    {
     "data": {
      "image/png": "[encoded data removed]",
      "text/plain": [
       "<Figure size 432x288 with 1 Axes>"
      ]
     },
     "metadata": {
      "needs_background": "light"
     },
     "output_type": "display_data"
    }
   ],
   "source": [
    "\n",
    "\n",
    "q=72 #number of surface proteins\n",
    "Ccmc=0.2*10**(-6) #critical concentration, micrometer\n",
    "alpha=2 #line energy kT \n",
    "beta=70*10**(-6) #rate of attachment, Hz/micrometer\n",
    "c1t0=10*10**(-6) #initial concentration, micrometers\n",
    "Rh=0.619*10**(-6) #hydrodynamic radius, micrometer, estimated for 300 amino acid protein\n",
    "R=np.sqrt(q)*Rh/2 #estimate for spherical capsid radius\n",
    "T=293 #room temp, K\n",
    "k=1.38064852*10**(-23) #boltzmann constant\n",
    "\n",
    "Z= 0.9544*10**(-3) #viscosity room temp water, millipascals\n",
    "D1=k*T/(6*np.pi)*Rh*Z\n",
    "j=D1*2*R/q\n",
    "\n",
    "init= [0]*q\n",
    "init[0]=c1t0\n",
    "t=np.linspace(0,100,101) \n",
    "def Con(cn,t):#builds a q size list of dcdt\n",
    "    dcdt=[0]*q#initializes list of q zeros\n",
    "    dcdt[0]=-(cn[0]**2)*j*np.sqrt(q-1)+cn[1]*cn[0]*j*np.sqrt(q-1)*np.exp(alpha*(np.sqrt(2*q-4)+np.sqrt(q-1)))/(cn[0]*2/Ccmc)\n",
    "    \n",
    "    n = 1\n",
    "    i = 1\n",
    "    while i < len(dcdt)-2:\n",
    "        n=i+1\n",
    "        bn=cn[0]*j*np.sqrt(n*(q-n))#unbinding energy for capsid size n\n",
    "        bnm1=cn[0]*j*np.sqrt((n-1)*(q-n+1))#unbinding energy for capsid size n+1\n",
    "        Gn=n*np.log(cn[0]*2/Ccmc)+alpha*np.sqrt(n*(q-n))#free energy for capsid size n\n",
    "        Gnp1=(n+1)*np.log(cn[0]*2/Ccmc)+alpha*np.sqrt((n+1)*(q-n-1))#free energy for capsid size n+1\n",
    "        Gnm1=(n-1)*np.log(cn[0]*2/Ccmc)+alpha*np.sqrt((n-1)*(q-n+1))#free energy for capsid size n-1\n",
    "        alpn=bnm1*np.exp(Gn-Gnm1)#binding energy for capsid size n\n",
    "        alpnp1=bn*np.exp(Gnp1-Gn)#binding energy for capsid size n+1\n",
    "        dcdt[n]=bnm1*cn[i-1]-alpn*cn[i]-bn*cn[i]+alpnp1*cn[i+1]#list of rates for all Cn at specific time\n",
    "        i+=1\n",
    "    \n",
    "    dcdt[q-1]=cn[0]*j*np.sqrt((q-1))*cn[q-1]-cn[0]*j*np.sqrt(q+1)*np.exp(np.sqrt(q-1)-1)*(cn[0]*2/Ccmc)**2#ending rate adjustment\n",
    "    return(dcdt)\n",
    "      \n",
    "x=odeint(Con,init,t)#gives qxt matrix for Cns at each step\n",
    "\n",
    "Cq= x[:,q-1]\n",
    "\n",
    "\n",
    "\n",
    "plt.plot(t,Cq)"
   ]
  },
  {
   "cell_type": "code",
   "execution_count": null,
   "metadata": {},
   "outputs": [],
   "source": []
  }
 ],
 "metadata": {
  "kernelspec": {
   "display_name": "Python 3",
   "language": "python",
   "name": "python3"
  },
  "language_info": {
   "codemirror_mode": {
    "name": "ipython",
    "version": 3
   },
   "file_extension": ".py",
   "mimetype": "text/x-python",
   "name": "python",
   "nbconvert_exporter": "python",
   "pygments_lexer": "ipython3",
   "version": "3.8.5"
  }
 },
 "nbformat": 4,
 "nbformat_minor": 4
}
