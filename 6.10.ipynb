{
 "cells": [
  {
   "cell_type": "code",
   "execution_count": null,
   "metadata": {},
   "outputs": [],
   "source": [
    "import matplotlib.pyplot as plt \n",
    "import numpy as np\n",
    "from scipy.integrate import odeint"
   ]
  },
  {
   "cell_type": "code",
   "execution_count": 65,
   "metadata": {},
   "outputs": [
    {
     "name": "stdout",
     "output_type": "stream",
     "text": [
      "[-2.133243608132235e-29, 2.133243608132235e-29, 0.0, 0.0, 0.0, 0.0, 0.0, 0.0, -1.7426272650147806e-19, 0.0]\n",
      "[-2.133243608132235e-29, 2.133243608132235e-29, 7.406793973340203e-57, 0.0, 0.0, 0.0, 0.0, -8.18851883634505e-46, -1.7426272650147806e-19, 8.642309524211828e-46]\n",
      "[-2.133243608132235e-29, 2.133243608132235e-29, 1.4813587946680406e-56, 5.892501852516026e-84, 0.0, 0.0, -2.0316832324724235e-71, -1.63770376726901e-45, -1.7426272650147806e-19, 1.7284619048423656e-45]\n",
      "[-2.133243608132235e-29, 2.133243608132235e-29, 7.40827533213487e-53, 1.4737148017017863e-76, 1.2531181837577061e-103, -2.2946870250715088e-89, -5.0812400691660154e-64, -8.190156540112319e-42, -1.7426272650147806e-19, 8.64403798611667e-42]\n",
      "[-2.133243608132235e-29, 2.133243608132235e-29, 1.4815069305475073e-52, 5.893680441274057e-76, 1.253368807375678e-99, -2.2951459624719346e-85, -2.0320895995941658e-63, -1.637867537645737e-41, -1.7426272650147806e-19, 1.72863475103285e-41]\n",
      "[-2.133243608132235e-29, 2.133243608132235e-29, 2.2221863278815273e-52, 1.325989700710434e-75, 5.325814761570277e-99, -9.752534567965176e-85, -4.571896808507942e-63, -2.456719421280242e-41, -1.7426272650147806e-19, 2.5928657034540324e-41]\n",
      "[-2.133243608132235e-29, 2.133243608132235e-29, 9.62898030122173e-52, 2.4896586360959782e-74, 2.1895976752021001e-97, -4.009551396783904e-83, -8.584125779063738e-62, -1.0645238257625293e-40, -1.7426272650147806e-19, 1.1235175227665862e-40]\n"
     ]
    },
    {
     "data": {
      "text/plain": [
       "[<matplotlib.lines.Line2D at 0x7f9e7664a670>]"
      ]
     },
     "execution_count": 65,
     "metadata": {},
     "output_type": "execute_result"
    },
    {
     "data": {
      "image/png": "[encoded data removed]",
      "text/plain": [
       "<Figure size 432x288 with 1 Axes>"
      ]
     },
     "metadata": {
      "needs_background": "light"
     },
     "output_type": "display_data"
    }
   ],
   "source": [
    "q=10 #number of surface proteins\n",
    "Ccmc=0.2*10**(-6) #critical concentration,mole\n",
    "alpha=2 #line energy kT \n",
    "beta=70*10**(6) #rate of attachment, Hz/meter\n",
    "c1t0=10.0*10**(-6) #initial concentration, mole\n",
    "Rh=0.619*10**(-6) #hydrodynamic radius, meter, estimated for 300 amino acid protein\n",
    "R=np.sqrt(q)*Rh/2 #estimate for spherical capsid radius\n",
    "T=293 #room temp, K\n",
    "k=1.38064852*10**(-23) #boltzmann constant\n",
    "Z= 0.9544*10**(-3) #viscosity room temp water, pascals\n",
    "D1=k*T/(6*np.pi*Rh*Z)#diffusion coefficient\n",
    "j=D1*2*R/q\n",
    "\n",
    "init= [0]*q #empty conditions\n",
    "init[0]=c1t0#adding initial concentration of subunits\n",
    "\n",
    "t=np.linspace(0,10,11)#time values\n",
    "\n",
    "def Con(cn,t):#builds a q size list of dcdt\n",
    "    dcdt=[0]#initializes dcdt\n",
    "    #solves for initial rate of formation\n",
    "    dcdt[0]=(cn[0])*j*np.sqrt(q-1)*(-cn[0]+cn[1]*np.exp(alpha*(np.sqrt(2*q-4)+np.sqrt(q-1)))/(cn[0]*2/Ccmc))\n",
    "    n = 1 #dummy1\n",
    "    i = 1 #dummy2\n",
    "    while i < q-1:\n",
    "        n=i+1\n",
    "        if n == q-1:\n",
    "            dcdt.append(cn[0]*j*np.sqrt((q-1))*cn[q-1]-cn[0]*j*np.sqrt(q+1)*np.exp(np.sqrt(q-1)-1)*(cn[0]*2/Ccmc)**2)#ending rate adjustment\n",
    "        bn=cn[0]*j*np.sqrt(n*(q-n))#binding energy for capsid size n\n",
    "        bnm1=cn[0]*j*np.sqrt((n-1)*(q-n+1))#binding energy for capsid size n+1\n",
    "        Gn=n*np.log(cn[0]*2/Ccmc)+alpha*np.sqrt(n*(q-n))#free energy for capsid size n\n",
    "        Gnp1=(n+1)*np.log(cn[0]*2/Ccmc)+alpha*np.sqrt((n+1)*(q-n-1))#free energy for capsid size n+1\n",
    "        Gnm1=(n-1)*np.log(cn[0]*2/Ccmc)+alpha*np.sqrt((n-1)*(q-n+1))#free energy for capsid size n-1\n",
    "        alpn=bnm1*np.exp(Gn-Gnm1)#unbinding energy for capsid size n\n",
    "        alpnp1=bn*np.exp(Gnp1-Gn)#unbinding energy for capsid size n+1\n",
    "        dcdt.append(bnm1*cn[i-1]-alpn*cn[i]-bn*cn[i]+alpnp1*cn[i+1])#list of rates for all Cn at specific time\n",
    "        i+=1\n",
    "    #v rate of complete capsid formation\n",
    "    print(dcdt)\n",
    "    return(dcdt)\n",
    "\n",
    "\n",
    "x=odeint(Con,init,t)#integrates rates to give txq matrix of concetrations of each size of capsid at each time step\n",
    "Cq= x[:,q-1]#concentration of complete capsids as a function of time\n",
    "\n",
    "\n",
    "\n",
    "plt.plot(t,Cq)"
   ]
  },
  {
   "cell_type": "code",
   "execution_count": null,
   "metadata": {},
   "outputs": [],
   "source": []
  },
  {
   "cell_type": "code",
   "execution_count": null,
   "metadata": {},
   "outputs": [],
   "source": []
  }
 ],
 "metadata": {
  "kernelspec": {
   "display_name": "Python 3",
   "language": "python",
   "name": "python3"
  },
  "language_info": {
   "codemirror_mode": {
    "name": "ipython",
    "version": 3
   },
   "file_extension": ".py",
   "mimetype": "text/x-python",
   "name": "python",
   "nbconvert_exporter": "python",
   "pygments_lexer": "ipython3",
   "version": "3.8.5"
  }
 },
 "nbformat": 4,
 "nbformat_minor": 4
}
