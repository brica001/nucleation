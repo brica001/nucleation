{
 "cells": [
  {
   "cell_type": "code",
   "execution_count": 2,
   "metadata": {},
   "outputs": [],
   "source": [
    "import matplotlib.pyplot as plt \n",
    "import numpy as np\n",
    "from scipy.integrate import odeint"
   ]
  },
  {
   "cell_type": "code",
   "execution_count": 1,
   "metadata": {},
   "outputs": [
    {
     "ename": "NameError",
     "evalue": "name 'np' is not defined",
     "output_type": "error",
     "traceback": [
      "\u001b[0;31m---------------------------------------------------------------------------\u001b[0m",
      "\u001b[0;31mNameError\u001b[0m                                 Traceback (most recent call last)",
      "\u001b[0;32m<ipython-input-1-213d38c7e759>\u001b[0m in \u001b[0;36m<module>\u001b[0;34m\u001b[0m\n\u001b[1;32m      5\u001b[0m \u001b[0mc1t0\u001b[0m\u001b[0;34m=\u001b[0m\u001b[0;36m10\u001b[0m\u001b[0;34m*\u001b[0m\u001b[0;36m10\u001b[0m\u001b[0;34m**\u001b[0m\u001b[0;34m(\u001b[0m\u001b[0;34m-\u001b[0m\u001b[0;36m6\u001b[0m\u001b[0;34m)\u001b[0m \u001b[0;31m#initial concentration, micrometers\u001b[0m\u001b[0;34m\u001b[0m\u001b[0;34m\u001b[0m\u001b[0m\n\u001b[1;32m      6\u001b[0m \u001b[0mRh\u001b[0m\u001b[0;34m=\u001b[0m\u001b[0;36m0.619\u001b[0m\u001b[0;34m*\u001b[0m\u001b[0;36m10\u001b[0m\u001b[0;34m**\u001b[0m\u001b[0;34m(\u001b[0m\u001b[0;34m-\u001b[0m\u001b[0;36m6\u001b[0m\u001b[0;34m)\u001b[0m \u001b[0;31m#hydrodynamic radius, micrometer, estimated for 300 amino acid protein\u001b[0m\u001b[0;34m\u001b[0m\u001b[0;34m\u001b[0m\u001b[0m\n\u001b[0;32m----> 7\u001b[0;31m \u001b[0mR\u001b[0m\u001b[0;34m=\u001b[0m\u001b[0mnp\u001b[0m\u001b[0;34m.\u001b[0m\u001b[0msqrt\u001b[0m\u001b[0;34m(\u001b[0m\u001b[0mq\u001b[0m\u001b[0;34m)\u001b[0m\u001b[0;34m*\u001b[0m\u001b[0mRh\u001b[0m\u001b[0;34m/\u001b[0m\u001b[0;36m2\u001b[0m \u001b[0;31m#estimate for spherical capsid radius\u001b[0m\u001b[0;34m\u001b[0m\u001b[0;34m\u001b[0m\u001b[0m\n\u001b[0m\u001b[1;32m      8\u001b[0m \u001b[0mT\u001b[0m\u001b[0;34m=\u001b[0m\u001b[0;36m293\u001b[0m \u001b[0;31m#room temp, K\u001b[0m\u001b[0;34m\u001b[0m\u001b[0;34m\u001b[0m\u001b[0m\n\u001b[1;32m      9\u001b[0m \u001b[0mk\u001b[0m\u001b[0;34m=\u001b[0m\u001b[0;36m1.38064852\u001b[0m\u001b[0;34m*\u001b[0m\u001b[0;36m10\u001b[0m\u001b[0;34m**\u001b[0m\u001b[0;34m(\u001b[0m\u001b[0;34m-\u001b[0m\u001b[0;36m23\u001b[0m\u001b[0;34m)\u001b[0m \u001b[0;31m#boltzmann constant\u001b[0m\u001b[0;34m\u001b[0m\u001b[0;34m\u001b[0m\u001b[0m\n",
      "\u001b[0;31mNameError\u001b[0m: name 'np' is not defined"
     ]
    }
   ],
   "source": [
    "q=72 #number of surface proteins\n",
    "Ccmc=0.2*10**(-6) #critical concentration, micrometer\n",
    "alpha=2 #line energy kT \n",
    "beta=70*10**(-6) #rate of attachment, Hz/micrometer\n",
    "c1t0=10*10**(-6) #initial concentration, micrometers\n",
    "Rh=0.619*10**(-6) #hydrodynamic radius, micrometer, estimated for 300 amino acid protein\n",
    "R=np.sqrt(q)*Rh/2 #estimate for spherical capsid radius\n",
    "T=293 #room temp, K\n",
    "k=1.38064852*10**(-23) #boltzmann constant\n",
    "\n",
    "Z= 0.9544*10**(-3) #viscosity room temp water, millipascals\n",
    "D1=k*T/(6*np.pi)*Rh*Z\n",
    "j=D1*2*R/q\n",
    "\n",
    "init= [0]*q #empty conditions\n",
    "init[0]=c1t0#adding initial concentration of subunits\n",
    "t=np.linspace(0,100,101)#time values\n",
    "def Con(cn,t):#builds a q size list of dcdt\n",
    "    dcdt=[0]*q#initializes list of q zeros\n",
    "    #solves for initial rate of formation\n",
    "    dcdt[0]=-(cn[0]**2)*j*np.sqrt(q-1)+cn[1]*cn[0]*j*np.sqrt(q-1)*np.exp(alpha*(np.sqrt(2*q-4)+np.sqrt(q-1)))/(cn[0]*2/Ccmc)\n",
    "    \n",
    "    n = 1 #dummy1\n",
    "    i = 1 #dummy2\n",
    "    while i < len(dcdt)-2:\n",
    "        n=i+1\n",
    "        bn=cn[0]*j*np.sqrt(n*(q-n))#binding energy for capsid size n\n",
    "        bnm1=cn[0]*j*np.sqrt((n-1)*(q-n+1))#binding energy for capsid size n+1\n",
    "        Gn=n*np.log(cn[0]*2/Ccmc)+alpha*np.sqrt(n*(q-n))#free energy for capsid size n\n",
    "        Gnp1=(n+1)*np.log(cn[0]*2/Ccmc)+alpha*np.sqrt((n+1)*(q-n-1))#free energy for capsid size n+1\n",
    "        Gnm1=(n-1)*np.log(cn[0]*2/Ccmc)+alpha*np.sqrt((n-1)*(q-n+1))#free energy for capsid size n-1\n",
    "        alpn=bnm1*np.exp(Gn-Gnm1)#unbinding energy for capsid size n\n",
    "        alpnp1=bn*np.exp(Gnp1-Gn)#unbinding energy for capsid size n+1\n",
    "        dcdt[n]=bnm1*cn[i-1]-alpn*cn[i]-bn*cn[i]+alpnp1*cn[i+1]#list of rates for all Cn at specific time\n",
    "        i+=1\n",
    "    #rate of complete capsid formation\n",
    "    dcdt[q-1]=cn[0]*j*np.sqrt((q-1))*cn[q-1]-cn[0]*j*np.sqrt(q+1)*np.exp(np.sqrt(q-1)-1)*(cn[0]*2/Ccmc)**2#ending rate adjustment\n",
    "    return(dcdt)\n",
    "\n",
    "x=odeint(Con,init,t)#integrates rates to give qxt matrix of concetrations of each size of capsid at each time step\n",
    "\n",
    "Cq= x[:,q-1]#concentration of complete capsids as a function of time\n",
    "\n",
    "\n",
    "\n",
    "plt.plot(t,Cq)"
   ]
  },
  {
   "cell_type": "code",
   "execution_count": null,
   "metadata": {},
   "outputs": [],
   "source": []
  }
 ],
 "metadata": {
  "kernelspec": {
   "display_name": "Python 3",
   "language": "python",
   "name": "python3"
  },
  "language_info": {
   "codemirror_mode": {
    "name": "ipython",
    "version": 3
   },
   "file_extension": ".py",
   "mimetype": "text/x-python",
   "name": "python",
   "nbconvert_exporter": "python",
   "pygments_lexer": "ipython3",
   "version": "3.8.5"
  }
 },
 "nbformat": 4,
 "nbformat_minor": 4
}
