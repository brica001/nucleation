{
 "cells": [
  {
   "cell_type": "code",
   "execution_count": 2,
   "metadata": {},
   "outputs": [],
   "source": [
    "import matplotlib.pyplot as plt \n",
    "import numpy as np\n",
    "from scipy.integrate import odeint\n",
    "from scipy.integrate import solve_ivp"
   ]
  },
  {
   "cell_type": "code",
   "execution_count": 21,
   "metadata": {},
   "outputs": [
    {
     "data": {
      "image/png": "[encoded data removed]",
      "text/plain": [
       "<Figure size 432x288 with 1 Axes>"
      ]
     },
     "metadata": {
      "needs_background": "light"
     },
     "output_type": "display_data"
    }
   ],
   "source": [
    "q=72                                        #number of surface capsomers\n",
    "Ccmc=0.2e-6                                 #critical concentration,mole\n",
    "alpha=2                                     #line energy, kT \n",
    "beta=70e6                                   #rate of attachment, Hz/meter\n",
    "c1t0=10.0e-6                                #initial concentration, mole\n",
    "Rh=0.619e-6                                 #hydrodynamic radius, meter, estimated for 300 amino acid protein\n",
    "R=np.sqrt(q)*Rh/2                           #estimate for spherical capsid radius\n",
    "T=293                                       #room temp, K\n",
    "k=1.38064852e-23                            #boltzmann constant\n",
    "Z= 0.9544e-3                                #viscosity room temp water, pascals\n",
    "D1=k*T/(6*np.pi*Rh*Z)                       #diffusion coefficient\n",
    "j=D1*2*R/q                                  #simplification constant\n",
    "\n",
    "initCn=[0]*q                                #empty conditions\n",
    "initCn[0]=c1t0                              #adding initial concentration of subunits\n",
    "\n",
    "t=np.linspace(0,.00012,101)                    #time values\n",
    "\n",
    "def Jn(n,C1,Cn,Cnp1):                       #Net current of partial capdisds of size n growing to n+1\n",
    "    J=beta*Cn-beta*Cnp1*Ccmc/(C1*2)*np.exp(alpha*(np.sqrt((n+1)*(q-n-1))-np.sqrt(n*(q-n))))\n",
    "    return(J)\n",
    "\n",
    "dcdt=[0]                                    #initializes dcdt\n",
    "\n",
    "def Con(Cn,t):                              #function builds dcdt ode list of size q                                       #dummy index\n",
    "    dcdt=[0]*q                              #intializes q size list of zeros\n",
    "    i=0                                     #dummy index\n",
    "    while i < q:                            #0 to q-1 indices fills in list \n",
    "        n=i+1                               #number of capsomers is index+1\n",
    "        if i == 0:                          #first list element index 0\n",
    "            dcdt[0]=-Jn(1,Cn[0],Cn[0],Cn[1])\n",
    "        elif n == q:                        #final list element index q-1\n",
    "            dcdt[i]=Jn(i,Cn[0],Cn[i-1],Cn[i])\n",
    "        else:                               #elements of index 1 to q-2\n",
    "            dcdt[i]=Jn(i,Cn[0],Cn[i-1],Cn[i])-Jn(n,Cn[0],Cn[i],Cn[n])\n",
    "        i+=1\n",
    "    return(dcdt)\n",
    "x=odeint(Con,initCn,t)                      #integrates txq matrix of concetrations at each time step\n",
    "\n",
    "Cq= x[:,q-1]                                #concentration of complete capsids as a function of time\n",
    "\n",
    "plt.plot(t,Cq)\n",
    "plt.show()"
   ]
  }
 ],
 "metadata": {
  "kernelspec": {
   "display_name": "Python 3",
   "language": "python",
   "name": "python3"
  },
  "language_info": {
   "codemirror_mode": {
    "name": "ipython",
    "version": 3
   },
   "file_extension": ".py",
   "mimetype": "text/x-python",
   "name": "python",
   "nbconvert_exporter": "python",
   "pygments_lexer": "ipython3",
   "version": "3.8.5"
  }
 },
 "nbformat": 4,
 "nbformat_minor": 4
}
